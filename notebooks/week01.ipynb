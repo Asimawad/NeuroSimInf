{
 "cells": [
  {
   "cell_type": "markdown",
   "metadata": {},
   "source": [
    "# Simulation and Inference for Neuroscience\n",
    "## Exercises Week 1: Simulation\n",
    "\n",
    "The notebook below contains the exercises for week 1.\n",
    "The exercises are designed to follow the lecture material and do not need deep knowledge of python to be solved.\n",
    "\n",
    "There are two types of exercises:\n",
    "- **Tasks**: Where you need to write code, i.e. \"implement a function that does X\".\n",
    "- **Questions**: Where you need to answer questions using the code you wrote. For example \"vary the inputs and interpret the results\", will require you to provide one or more plots together with your answer. To answer the questions you can use Markdown cells.\n",
    "\n",
    "All necessary dependencies are imported in the first cell and you should not need to import anything else. In addition, we also provide some helper functions that can be used to help you answering the tasks. When solving the tasks, feel free to change the provided function signatures and code as you see fit. However, we recommend sticking with the provided signatures as they reflect common conventions and will make it easier to add additional functionality during the exercise. Type hints are provided for the function signatures and the arguments and each task should only require a few lines of code."
   ]
  },
  {
   "cell_type": "code",
   "execution_count": 1,
   "metadata": {},
   "outputs": [],
   "source": [
    "# dependencies\n",
    "import numpy as np\n",
    "import matplotlib.pyplot as plt\n",
    "from math import pi\n",
    "\n",
    "import jaxley as jx\n",
    "from jaxley.channels import HH\n",
    "import jax.numpy as jnp\n",
    "\n",
    "from typing import Callable, Tuple, Dict"
   ]
  },
  {
   "cell_type": "code",
   "execution_count": 2,
   "metadata": {},
   "outputs": [],
   "source": [
    "# utils\n",
    "def step_current(amp: float, t0: float, t1: float) -> Callable[[float], float]:\n",
    "    \"\"\"Return step current  I(t) = amp * (t0 <= t) * (t <= t1)\"\"\"\n",
    "    def current(t):\n",
    "        return amp * (t0 <= t) * (t <= t1)\n",
    "    return current\n",
    "\n",
    "def area(r: float, l: float) -> float: \n",
    "    \"\"\"Return the surface area of a cylinder with radius r and length l.\"\"\"\n",
    "    return 2.0 * pi * r * l # μm²\n",
    "\n",
    "def plot_voltage(t: np.ndarray, v: np.ndarray, ax: plt.Axes = None) -> plt.Axes:\n",
    "    \"\"\"Plot the voltage v(t).\"\"\"\n",
    "    if ax is None:\n",
    "        ax = plt.gca()\n",
    "    ax.plot(t, v)\n",
    "    ax.set_xlabel(\"t (ms)\")\n",
    "    ax.set_ylabel(\"V (mV)\")\n",
    "    return ax\n",
    "\n",
    "def plot_stimulus(t: np.ndarray, ipt: Callable[[float], float], ax: plt.Axes = None) -> plt.Axes:\n",
    "    \"\"\"Plot the stimulus I(t).\"\"\"\n",
    "    if ax is None:\n",
    "        ax = plt.gca()\n",
    "    ax.plot(t, ipt(t))\n",
    "    ax.set_xlabel(\"t (ms)\")\n",
    "    ax.set_ylabel(\"I (nA)\")\n",
    "    return ax\n",
    "\n",
    "def make_plot(t: np.ndarray, u: np.ndarray, ipt: Callable[[float], float]) -> Tuple[plt.Figure, plt.Axes]:\n",
    "    \"\"\"Plot voltage and stimulus\"\"\"\n",
    "    plot_spec = {\"sharex\": True, \"gridspec_kw\": {\"height_ratios\": [3, 1]}, \"layout\": \"constrained\"}\n",
    "    fig, axs = plt.subplots(2, 1, figsize=(6, 3), **plot_spec)\n",
    "\n",
    "    plot_voltage(t, u[:, :, 0], axs[0])\n",
    "    plot_stimulus(t, ipt, axs[1])\n",
    "    axs[0].set_xlabel(\"\")\n",
    "    return axs\n"
   ]
  },
  {
   "cell_type": "markdown",
   "metadata": {},
   "source": [
    "# Numerical integration\n",
    "Biophsical neuron models can be described by a system of ODEs. This means in order to simulate such as system, we need to solve an [initial value problem](https://en.wikipedia.org/wiki/Initial_value_problem) of the form \n",
    "\n",
    "$$\n",
    "\\frac{du}{dt} = f(t, u, p)\n",
    "$$\n",
    "\n",
    "with states $u$, parameters $p$ and initial condition $u(t_0) = u_0$. Since the dynamics of biophysical models are typically non-linear however, we can only approximate the solution using numerical methods. This means we need to discretize the time into small steps and then use an ODE solver to approximate the solution in an iterative fashion.\n",
    "\n",
    "Here is a general outline of such an integration loop:\n",
    "\n",
    "$$\n",
    "\\begin{align*}\n",
    "&\\text{Input:} \\quad f(t,u,p), \\, t_0, \\, t_1, \\, u_0, \\, p, \\, dt, \\, \\text{solver} \\\\\n",
    "&\\text{Initialize:} \\\\\n",
    "&\\quad t[i] = t_0 + i\\cdot dt \\quad \\text{for} \\quad i = 0,\\ldots,N-1 \\quad \\text{where} \\quad N = \\lceil(t_1-t_0)/dt\\rceil \\\\\n",
    "&\\quad u[0] = u_0 \\\\\n",
    "&\\text{For } i = 0 \\text{ to } N-1: \\\\\n",
    "&\\quad u[i+1] = \\text{solver}(f, t[i], u[i], p, dt) \\\\\n",
    "&\\text{Output:} \\quad t[0:N], \\, u[0:N]\n",
    "\\end{align*}\n",
    "$$\n",
    "\n",
    "\n",
    "# Forward Euler\n",
    "\n",
    "One of the simplest solvers is the [Forward Euler method](https://en.wikipedia.org/wiki/Euler_method). Let's try to implement an integration loop using the Forward Euler method in the following cell.\n",
    "\n",
    "### Tasks\n",
    "- implement the forward euler method\n",
    "- implement the integration loop\n",
    "\n",
    "_Note: You can test your implementation by running the `test_fw_euler` and `test_integrate` functions._"
   ]
  },
  {
   "cell_type": "code",
   "execution_count": 25,
   "metadata": {},
   "outputs": [],
   "source": [
    "def fw_euler(f: Callable[[float, np.ndarray, Tuple], np.ndarray], t: float, u: np.ndarray, args: Tuple, dt: float) -> np.ndarray:\n",
    "    \"\"\"One step of the Forward Euler method.\n",
    "\n",
    "    Args:\n",
    "        f: The function/vector field to integrate. `du/dt = f(t, u, args)`.\n",
    "        t: The current time.\n",
    "        u: The current state, `u[i]`, (num_comps, num_states).\n",
    "        args: Additional arguments to f.\n",
    "        dt: The time step.\n",
    "\n",
    "    Returns:\n",
    "        The next state, `u[i+1]`, (num_comps, num_states).\n",
    "    \"\"\"\n",
    "    # add your code here\n",
    "    u = u + dt * f(t,u,args)\n",
    "    return u\n",
    "\n",
    "def integrate(f: Callable[[float, np.ndarray, Tuple], np.ndarray], solver: Callable, tspan: Tuple[float, float], u0: np.ndarray, args: Tuple, dt: float) -> Tuple[np.ndarray, np.ndarray]:\n",
    "    \"\"\"Integrate the function/vector field using a given solver.\n",
    "\n",
    "    Args:\n",
    "        f: The function/vector field to integrate.\n",
    "        solver: The solver to use, i.e. `fw_euler`.\n",
    "        tspan: The time span to integrate over, (t0, t1).\n",
    "        u0: The initial state, (num_comps, num_states).\n",
    "        args: Additional arguments to vf.\n",
    "        dt: The step size.\n",
    "    \n",
    "    Returns:\n",
    "        t: The time points.\n",
    "        u: The state at the time points, (num_steps, num_comps, num_states).\n",
    "    \"\"\"\n",
    "    \n",
    "    # add your code here\n",
    "    t0,t1 = tspan\n",
    "    N = np.ceil((t1-t0)/dt)\n",
    "    T = np.arange(t0,t1,dt)\n",
    "    u = u0\n",
    "    output = []\n",
    "    for t in T:\n",
    "        u = solver(f , t,u,args,dt )\n",
    "        output.append(u)\n",
    "    u = np.array(output)\n",
    "    return T, u"
   ]
  },
  {
   "cell_type": "code",
   "execution_count": 26,
   "metadata": {},
   "outputs": [
    {
     "name": "stdout",
     "output_type": "stream",
     "text": [
      "`fw_euler` passed\n",
      "`integrate` passed\n"
     ]
    }
   ],
   "source": [
    "f_test = lambda t, u, args: u # du = u\n",
    "u0 = np.array([[1.0]])\n",
    "\n",
    "def test_fw_euler():\n",
    "    u_next = fw_euler(f_test, 0.0, u0, args = (), dt = 0.1)\n",
    "    assert np.allclose(u_next, 1.1), \"u_next should be 1.1\"\n",
    "    assert u_next.shape == (1,1), \"u_next should be a 1x1 array\"\n",
    "    print(\"`fw_euler` passed\")\n",
    "\n",
    "def test_integrate():\n",
    "    t, u = integrate(f_test, fw_euler, tspan=(0, 1), u0=u0, args=(), dt=0.01)\n",
    "    assert np.allclose(u.flatten(), np.exp(t), atol=1e-1), \"u should be close to exp(t)\"\n",
    "    assert u.shape == (100, 1, 1), \"u should be of shape (100, 1, 1)\"\n",
    "    assert t.shape == (100,), \"t should be of shape (100,)\"\n",
    "    print(\"`integrate` passed\")\n",
    "\n",
    "test_fw_euler()\n",
    "test_integrate()"
   ]
  },
  {
   "cell_type": "markdown",
   "metadata": {},
   "source": [
    "# Basic membrane dynamics\n",
    "\n",
    "In order to check if the numerical integration works, let's start by simulating a piece / section of membrane reacting to a step current input. We can model a piece of membrane as a capacitor $C$ in series with a resistor $R=1/g$, which is driven by an external current $I_{ext}$ (in $\\mu A/cm^2$).\n",
    "\n",
    "$$\n",
    "C \\frac{dV}{dt} = I_{ext} - g V\n",
    "$$\n",
    "\n",
    "We will use a step current such as $I(t) = I_{amp} \\cdot \\mathbb{1}(t_{start} \\leq t \\leq t_{end})$ (in $nA$) and assume the a cylindrical section with radius $r=1\\mu m$, length $l=10\\mu m$, membrane capacitance $C=1\\mu F/cm^2$ and membrane conductance $g=0.001 mS/cm^2$. \n",
    "\n",
    "Note:\n",
    "- Make sure the equation is consistent with the form that the solver expects. \n",
    "- Not all solver arguments have to be used inside the function.\n",
    "- Be careful with the units of $I(t)$, $I_{ext}$ (!), $g$ and $V$.\n",
    "\n",
    "\n",
    "### Tasks\n",
    "- implement a basic membrane model\n",
    "- integrate the model\n",
    "- plot the results (you can use the `make_plot` function to plot the results)"
   ]
  },
  {
   "cell_type": "code",
   "execution_count": 35,
   "metadata": {},
   "outputs": [],
   "source": [
    "def membrane(t: float, u: np.ndarray, args: Tuple) -> np.ndarray:\n",
    "    \"\"\"Basic membrane dynamics.\n",
    "\n",
    "    Args:\n",
    "        t: The current time.\n",
    "        u: The current state.\n",
    "        args: Additional arguments, i.e. `p` and `ipt`.\n",
    "\n",
    "    Returns:\n",
    "        du: The derivative of the state.\n",
    "    \"\"\"\n",
    "    p, ipt = args\n",
    "    v = u\n",
    "    l = p['l']\n",
    "    r = p['r']\n",
    "    c = p['c']\n",
    "    area = 2*pi*r*l\n",
    "    I = 10**5 * ipt(t)/area\n",
    "    gv = p['g'] * v * 1000\n",
    "    du = (I-gv)/c\n",
    "    # add your code here    \n",
    "    return du\n",
    "\n",
    "v0 = np.array([[0.0]])\n",
    "dt = 0.025\n",
    "stimulus = step_current(0.001, 10, 90)\n",
    "params = {\"c\": 1.0, \"g\": 0.001, \"r\": 1.0, \"l\": 10.0}\n",
    "t, v = integrate(membrane, fw_euler,(0, 100), v0, (params, stimulus), dt)"
   ]
  },
  {
   "cell_type": "code",
   "execution_count": 36,
   "metadata": {},
   "outputs": [
    {
     "data": {
      "text/plain": [
       "array([<Axes: ylabel='V (mV)'>, <Axes: xlabel='t (ms)', ylabel='I (nA)'>],\n",
       "      dtype=object)"
      ]
     },
     "execution_count": 36,
     "metadata": {},
     "output_type": "execute_result"
    },
    {
     "data": {
      "image/png": "[encoded data removed]",
      "text/plain": [
       "<Figure size 600x300 with 2 Axes>"
      ]
     },
     "metadata": {},
     "output_type": "display_data"
    }
   ],
   "source": [
    "# plot the results\n",
    "make_plot(t,v,stimulus)"
   ]
  },
  {
   "cell_type": "markdown",
   "metadata": {},
   "source": [
    "# Leak current\n",
    "\n",
    "Now that you know how to simulate a section of membrane, let's increase the complexity of our model slightly by modelling the movement of ions rather than of arbitrary charges. To do this we also need to account for the diffusion forces that drive the movement of ions across the membrane. These diffusion forces lead to a non-zero equilibrium potential at which there is no net leakage of ions through the membrane. In the following we assume an equilibrium potential of $E_{leak} = -70 mV$.\n",
    "\n",
    "$$\n",
    "I_{leak} = \\bar{g}_{leak} (V - E_{leak})\n",
    "$$\n",
    "\n",
    "$$\n",
    "C \\frac{dV}{dt} = I_{ext} - I_{leak}\n",
    "$$\n",
    "\n",
    "### Tasks\n",
    "- implement a leak current\n",
    "- integrate the model\n",
    "- plot the results\n",
    "\n",
    "### Questions\n",
    "- What is the effect of adding $E_{leak}$?\n",
    "- How do the different parameters influence the dynamics?\n",
    "- What effect do different stimuli have?"
   ]
  },
  {
   "cell_type": "code",
   "execution_count": 37,
   "metadata": {},
   "outputs": [],
   "source": [
    "def leak(t: float, u: np.ndarray, args: Tuple) -> np.ndarray:\n",
    "    \"\"\"Leak current.\n",
    "\n",
    "    Args:\n",
    "        t: The current time.\n",
    "        u: The current state.\n",
    "        args: Additional arguments, i.e. `p` and `ipt`.\n",
    "\n",
    "    Returns:\n",
    "        du: The derivative of the state.\n",
    "    \"\"\"\n",
    "\n",
    "    p, ipt = args\n",
    "    v = u\n",
    "    l = p['l']\n",
    "    r = p['r']\n",
    "    c = p['c']\n",
    "    e = p['e']\n",
    "    area = 2*pi*r*l\n",
    "    I = 10**5 * ipt(t)/area\n",
    "    I_leak = p['g'] * (v-e) * 1000\n",
    "    du = (I-I_leak)/c\n",
    "    return du    # add your code here\n",
    " "
   ]
  },
  {
   "cell_type": "code",
   "execution_count": 38,
   "metadata": {},
   "outputs": [],
   "source": [
    "params = {\"c\": 1.0, \"g\": 0.001, \"e\": -70.0, \"r\": 1.0, \"l\": 10.0}\n",
    "\n",
    "v0 = np.array([[-70.0]])\n",
    "dt = 0.025\n",
    "stimulus = step_current(0.01, 10, 90)\n",
    "t, v = integrate(leak, fw_euler, (0, 100), v0, (params, stimulus), dt)"
   ]
  },
  {
   "cell_type": "code",
   "execution_count": 39,
   "metadata": {},
   "outputs": [
    {
     "data": {
      "text/plain": [
       "array([<Axes: ylabel='V (mV)'>, <Axes: xlabel='t (ms)', ylabel='I (nA)'>],\n",
       "      dtype=object)"
      ]
     },
     "execution_count": 39,
     "metadata": {},
     "output_type": "execute_result"
    },
    {
     "data": {
      "image/png": "[encoded data removed]",
      "text/plain": [
       "<Figure size 600x300 with 2 Axes>"
      ]
     },
     "metadata": {},
     "output_type": "display_data"
    }
   ],
   "source": [
    "# plot the results and answer the questions\n",
    "make_plot(t,v,stimulus)"
   ]
  },
  {
   "cell_type": "markdown",
   "metadata": {},
   "source": [
    "# Hodgkin-Huxley model\n",
    "We now have a model of how ions leak across the membrane. However, this is not enough to produce any spiking activity yet. To do this we need to add active mechanisms that can produce action potentials. In the simplest case we can consider a spike to be a discrete event that happens when the membrane potential $V$ reaches a certain threshold, which is the basic idea of a [Leaky Integrate and Fire (LIF) model](https://en.wikipedia.org/wiki/Leaky_integrate_and_fire_model). A more accurate description of the membrane potential dynamics can be obtained by modelling the flow of different ions through specific voltage dependent channels in the membrane. This is the basic idea of the [Hodgkin-Huxley model](https://en.wikipedia.org/wiki/Hodgkin%E2%80%93Huxley_model). \n",
    "\n",
    "Let's implement a basic version of this model by adding a sodium and a potassium current to the membrane.\n",
    "\n",
    "$$\n",
    "I_{Na} = \\bar{g}_{Na} m^3 h (V - E_{Na})\\\\\n",
    "I_{K} = \\bar{g}_{K} n^4 (V - E_{K})\\\\\n",
    "I_{leak} = \\bar{g}_{leak} (V - E_{leak})\n",
    "$$\n",
    "\n",
    "$$\n",
    "C \\frac{dV}{dt} = I_{ext} - I_{leak} - I_{Na} - I_{K}\n",
    "$$\n",
    "\n",
    "\n",
    "While $I_{leak}$ is an entirely passive current ($g_{leak} = \\bar{g}_{leak}$), this is not the case for $I_{Na}$ and $I_{K}$. Here, the conductance of the ion channels depends on the membrane voltage. These channel dynamics are modelled via a set of gating variables $m(V)$, $h(V)$ and $n(V)$, which all adhere to the following general equation: \n",
    "$$\n",
    "\\frac{dx}{dt} = \\alpha_x(V) (1 - x) - \\beta_x(V) x,\n",
    "$$\n",
    "where $x$ is the gating variable, $V$ is the membrane voltage and $\\alpha_x(V)$ and $\\beta_x(V)$ are rate functions, that describe how the gates open and close as a function of voltage. For the sodium and potassium channels we will use the rate functions below:\n",
    "\n",
    "$$\n",
    "\\begin{align*}\n",
    "\\alpha_m(V) &= 0.1 \\frac{-(V + 40)}{\\exp(-(V + 40)/10) - 1}\\\\\n",
    "\\beta_m(V) &= 4.0 \\exp(-(V + 65)/18)\\\\\n",
    "\\end{align*}\n",
    "$$\n",
    "\n",
    "$$\n",
    "\\begin{align*}\n",
    "\\alpha_h(V) &= 0.07 \\exp(-(V + 65)/20)\\\\\n",
    "\\beta_h(V) &= 1.0 / (1 + \\exp(-(V + 35)/10))\\\\\n",
    "\\end{align*}\n",
    "$$\n",
    "\n",
    "$$\n",
    "\\begin{align*}\n",
    "\\alpha_n(V) &= 0.01 \\frac{-(V + 55)}{\\exp(-(V + 55)/10) - 1}\\\\\n",
    "\\beta_n(V) &= 0.125 \\exp(-(V + 65)/80)\n",
    "\\end{align*}\n",
    "$$\n",
    "\n",
    "\n",
    "### Tasks\n",
    "- implement the different currents and gates\n",
    "- implement a single compartment HH model\n",
    "- integrate the model\n",
    "- plot the results\n",
    "\n",
    "_Hint: Before you start implementing the HH model, think about what variables should make up the state vector `u` and what the initial conditions should be._\n",
    "\n",
    "### Questions\n",
    "- How does the model behave when the parameters are changed?\n",
    "- What is the effect of the different currents?\n",
    "- How do the gates behave?\n",
    "- How does the spiking behavior change with different input currents?\n",
    "- What is the effect of different step sizes? Are there trade-offs?"
   ]
  },
  {
   "cell_type": "code",
   "execution_count": null,
   "metadata": {},
   "outputs": [],
   "source": [
    "def _vtrap(x: float, y: float) -> float: return x / (np.exp(x/y) - 1.0)\n",
    "def taux(v: float, a: Callable, b: Callable) -> float: return 1 / (a(v) + b(v))\n",
    "def xinf(v: float, a: Callable, b: Callable) -> float: return a(v) * taux(v, a, b)\n",
    "\n",
    "def a_m(v: float) -> float: return 0.1 * _vtrap(-(v + 40), 10)\n",
    "def b_m(v: float) -> float: return 4.0 * np.exp(-(v + 65) / 18)\n",
    "def a_h(v: float) -> float: return 0.07 * np.exp(-(v + 65) / 20)\n",
    "def b_h(v: float) -> float: return 1.0 / (np.exp(-(v + 35) / 10) + 1)\n",
    "def a_n(v: float) -> float: return 0.01 * _vtrap(-(v + 55), 10)\n",
    "def b_n(v: float) -> float: return 0.125 * np.exp(-(v + 65) / 80)\n",
    "\n",
    "def compartment(t: float, u: np.ndarray, args: Tuple) -> np.ndarray: \n",
    "    \"\"\"HH model for a single compartment.\n",
    "\n",
    "    Args:\n",
    "        t: The current time.\n",
    "        u: The current state.\n",
    "        args: Additional arguments, i.e. `p` and `ipt`.\n",
    "\n",
    "    Returns:\n",
    "        du: The derivative of the state.\n",
    "    \"\"\"\n",
    "    # unpack the state and args\n",
    "    p, ipt = args\n",
    "    v = u\n",
    "    v0 = v[0][0]\n",
    "    \n",
    "    l = p['l']\n",
    "    r = p['r']\n",
    "    c = p['c']\n",
    "    area = 2*pi*r*l\n",
    "    I_ext = 10**5 * ipt(t)/area\n",
    "    \n",
    "    # leak stuff\n",
    "    leak = p[\"leak\"]\n",
    "    I_leak = leak['g'] * (v-leak['e']) * 1000\n",
    "    \n",
    "    \n",
    "    # NA stuff\n",
    "    na = p['na']\n",
    "    m  = a_m(v0)\n",
    "    h  = b_h(v0)\n",
    "\n",
    "    \n",
    "    I_na = na['g'] * m**3 * h* (v-na['e'])*1000 \n",
    "    \n",
    "    # K stuff\n",
    "    k_ = p['k']\n",
    "    n = a_n(v0)\n",
    "    I_k = k_['g'] * n**4 * (v-k_['e'])*1000 \n",
    "    \n",
    "    \n",
    "    # # implement the ionic currents\n",
    "    # i_leak = # add your code here\n",
    "    # i_na = # add your code here\n",
    "    # i_k = # add your code here\n",
    "\n",
    "    # # implement the gating variables\n",
    "    dm = a_m(v0) # add your code here\n",
    "    dh = a_h(v0) # add your code here\n",
    "    dn = a_n(v0) # add your code here\n",
    "\n",
    "    # implement the derivative of the membrane voltage\n",
    "    dv = (I_ext - I_leak - I_k - I_na)/c\n",
    "\n",
    "    return  dv # derivative of the state"
   ]
  },
  {
   "cell_type": "code",
   "execution_count": 53,
   "metadata": {},
   "outputs": [
    {
     "name": "stderr",
     "output_type": "stream",
     "text": [
      "/tmp/ipykernel_10796/1461181533.py:44: RuntimeWarning: overflow encountered in multiply\n",
      "  I_na = na['g'] * m**3 *h * (v-na['e']) * 1000\n",
      "/tmp/ipykernel_10796/1854052970.py:15: RuntimeWarning: invalid value encountered in add\n",
      "  u = u + dt * f(t,u,args)\n"
     ]
    }
   ],
   "source": [
    "params = {\"leak\": {\"g\": 0.0003, \"e\": -54.3}, \"na\": {\"g\": 0.12, \"e\": 50.0}, \"k\": {\"g\": 0.036, \"e\": -77.0}, \"c\": 1.0, \"l\": 10.0, \"r\": 1.0}\n",
    "\n",
    "dt = 0.025\n",
    "v0 = -65.0\n",
    "vk0 = 50.0\n",
    "vn0 = -70.0\n",
    "stimulus = step_current(0.01, 10, 90)\n",
    "u0 = np.array([[v0,vn0,vk0]]) # add the initial conditions here\n",
    "t, u = integrate(compartment, fw_euler, (0, 100), u0, (params, stimulus), dt)"
   ]
  },
  {
   "cell_type": "code",
   "execution_count": 54,
   "metadata": {},
   "outputs": [
    {
     "data": {
      "text/plain": [
       "array([<Axes: ylabel='V (mV)'>, <Axes: xlabel='t (ms)', ylabel='I (nA)'>],\n",
       "      dtype=object)"
      ]
     },
     "execution_count": 54,
     "metadata": {},
     "output_type": "execute_result"
    },
    {
     "data": {
      "image/png": "[encoded data removed]",
      "text/plain": [
       "<Figure size 600x300 with 2 Axes>"
      ]
     },
     "metadata": {},
     "output_type": "display_data"
    }
   ],
   "source": [
    "# plot the results and answer the questions\n",
    "make_plot(t,u,stimulus)"
   ]
  },
  {
   "cell_type": "markdown",
   "metadata": {},
   "source": [
    "# Multi-compartment models\n",
    "So far the biophysical models we have built have assumed the neuron to be a single spherical or cylindrical compartment. This can already capture a lot of the dynamics of the neuron, but in practice neurons have very complicated branched structures, which lead to spatially extended dynamics that single compartment models are not able to capture. Hence, in order to resolve these dynamics more accurately we need to increase the spatial resolution of our model.\n",
    "\n",
    "This is what [Multi-compartment models](https://en.wikipedia.org/wiki/Compartmental_neuron_models) aim to do. By increasing the number of compartments that are used to model a single neuron and connecting them up in series or parallel they can better account for the branched morphology of the neuron. \n",
    "TODO: Add picture."
   ]
  },
  {
   "cell_type": "markdown",
   "metadata": {},
   "source": [
    "# Cable\n",
    "In order to turn the single compartment model we have implemented into a multi-compartment model we need to account for the contribution of neighbouring compartments to the membrane potential of a given compartment. For a cable this is relatively simple as we can assume that the current flowing into a compartment from a neighbouring compartment is proportional to the voltage difference between the two compartments. This means that the dynamics of a cable can be described by the following equation:\n",
    "\n",
    "$$\n",
    "C_i \\frac{dV_i}{dt} = I_{ext, i} - I_{ion, i} + \\sum_{j=1}^{N} g_{ij} (V_j - V_i),\n",
    "$$\n",
    "\n",
    "where $g_{ij}$ is the conductance between compartment $i$ and $j$ ($g_{ij} = 0$ if $i$ and $j$ are not electrically coupled).\n",
    "\n",
    "\n",
    "### Tasks\n",
    "- Write down the equation above for the specific case of a cable.\n",
    "- Implement $g_{ij}$ (see [here](https://en.wikipedia.org/wiki/Compartmental_neuron_models)).\n",
    "- Simulate the response of a 4 compartment cable to a step current input in the first compartment.\n",
    "- Plot the results.\n",
    "\n",
    "_Note, that you can reuse the HH model from the previous section when implementing the cable._\n",
    "\n",
    "### Questions\n",
    "- Can you compute the travel time of an AP across the cable?\n",
    "- How does it change with\n",
    " - myelination\n",
    " - the coupling strength\n",
    " - the diameter of the cable\n",
    "- What can you observe if you stimulate multiple compartments?"
   ]
  },
  {
   "cell_type": "code",
   "execution_count": 283,
   "metadata": {},
   "outputs": [],
   "source": [
    "def g_ij(p_i: Dict, p_j: Dict) -> float:\n",
    "    \"\"\"\n",
    "    from `https://en.wikipedia.org/wiki/Compartmental_neuron_models`.\n",
    "    `radius`: um, `Ra`: ohm cm, `l`: um, `g`: mS / cm^2\n",
    "    \"\"\"\n",
    "    r_i, Ra_i, l_i = p_i[\"r\"], p_i[\"Ra\"], p_i[\"l\"]\n",
    "    r_j, Ra_j, l_j = p_j[\"r\"], p_j[\"Ra\"], p_j[\"l\"]\n",
    "    g = # add your code for g_ij here\n",
    "    return g * 10**7 # S/cm/um -> mS / cm²\n",
    "\n",
    "def cable(t: float, u: np.ndarray, args: Tuple) -> np.ndarray:\n",
    "    \"\"\"Cable model.\n",
    "\n",
    "    Connects a number of compartments in series.\n",
    "\n",
    "    c*dv_i/dt = i_ext_i - i_ion_i + sum_{j=1}^{N} g_ij (v_j - v_i)\n",
    "\n",
    "    Args:\n",
    "        t: The current time.\n",
    "        u: The current state, (num_comps, num_states).\n",
    "        args: Additional arguments, i.e. `p` and `ipt`.\n",
    "\n",
    "    Returns:\n",
    "        du: The derivative of the state for each compartment, (num_comps, num_states).\n",
    "    \"\"\"\n",
    "    # unpack args\n",
    "    \n",
    "    # create a connectivity matrix for the cable\n",
    "    G = # add your code here\n",
    "    \n",
    "    du = []\n",
    "    for u_i, p_i, ipt_i in zip(u, p, ipt):\n",
    "        # compute the derivative of the membrane voltage for each compartment\n",
    "\n",
    "    for (i,j) in zip(*np.where(G)):\n",
    "        # add the contribution of the coupling current to the derivative of the membrane voltage\n",
    "    return du"
   ]
  },
  {
   "cell_type": "code",
   "execution_count": 267,
   "metadata": {},
   "outputs": [],
   "source": [
    "params = (\n",
    "{\"leak\": {\"g\": 0.0003, \"e\": -54.3}, \"na\": {\"g\": 0.12, \"e\": 50.0}, \"k\": {\"g\": 0.036, \"e\": -77.0}, \"c\": 1.0, \"l\": 100.0, \"r\": 1.0, \"Ra\": 5000},\n",
    "{\"leak\": {\"g\": 0.0003, \"e\": -54.3}, \"na\": {\"g\": 0.12, \"e\": 50.0}, \"k\": {\"g\": 0.036, \"e\": -77.0}, \"c\": 1.0, \"l\": 100.0, \"r\": 1.0, \"Ra\": 5000},\n",
    "{\"leak\": {\"g\": 0.0003, \"e\": -54.3}, \"na\": {\"g\": 0.12, \"e\": 50.0}, \"k\": {\"g\": 0.036, \"e\": -77.0}, \"c\": 1.0, \"l\": 100.0, \"r\": 1.0, \"Ra\": 5000},\n",
    "{\"leak\": {\"g\": 0.0003, \"e\": -54.3}, \"na\": {\"g\": 0.12, \"e\": 50.0}, \"k\": {\"g\": 0.036, \"e\": -77.0}, \"c\": 1.0, \"l\": 100.0, \"r\": 1.0, \"Ra\": 5000},\n",
    ")\n",
    "\n",
    "dt = 0.025\n",
    "v0 = -65.0\n",
    "# we only stimulate the first compartment\n",
    "stimuli = (step_current(0.1, 10, 90), step_current(0.00, 10, 90), step_current(0.0, 10, 90), step_current(0.0, 10, 90))\n",
    "\n",
    "# add the initial conditions for each compartment here\n",
    "u0 = np.array([\n",
    "(v0, ), \n",
    "(v0, ),\n",
    "(v0, ),\n",
    "(v0, ),\n",
    "])\n",
    "\n",
    "t, u = integrate(cable, fw_euler, (0, 100), u0, (params, stimuli), dt)"
   ]
  },
  {
   "cell_type": "code",
   "execution_count": null,
   "metadata": {},
   "outputs": [],
   "source": [
    "# plot the results and answer the questions"
   ]
  },
  {
   "cell_type": "markdown",
   "metadata": {},
   "source": [
    "# Bonus: Accelerate your simulation using jax\n",
    "So far we have relied on [numpy](https://numpy.org/) to implement and integrate our models. While numpy is plenty fast for most applications, there are a few drawbacks:\n",
    "- numpy does not support GPU acceleration\n",
    "- numpy does not support automatic differentiation\n",
    "- for-loops are slow\n",
    "\n",
    "One library that aims to address these issues is [jax](https://jax.readthedocs.io/en/latest/). Jax is a library for high-performance numerical computing with automatic differentiation. What makes it particularly useful for simulating biophysical models are the following features:\n",
    "- Jax natively runs on GPUs (great for large multi-compartment models)\n",
    "- Jax supports automatic differentiation (important for fitting models using gradient descent)\n",
    "- Jax offers just-in-time compilation (speeds up integration loops by several orders of magnitude)\n",
    "\n",
    "The simplest way to benefit from jax is to use [`jax.numpy`](https://jax.readthedocs.io/en/latest/jax.numpy.html) as a drop in replacement for anything you did with `numpy` before. Without any additional changes this allows your code to run on a GPU if you have one available or to obtain gradients.\n",
    "\n",
    "Another way to gain performance is by using [`vmap`](https://jax.readthedocs.io/en/latest/jax.vmap.html) to vectorize your integration loop. This allows jax to automatically parallelize the integration loop over the different compartments.\n",
    "\n",
    "In addition functions that get repeatedly called, like inside the integration loop, can be compiled using [`jax.jit`](https://jax.readthedocs.io/en/latest/jax.jit.html). This makes calls to the function (after it has been compiled) significantly faster, often by a factor of 100 or more. You can get even more performance out of jax by using the [`lax`](https://jax.readthedocs.io/en/latest/jax.lax.html) module, which offers a set of functions that are specifically designed to be fast, i.e. a fast `for`-loop alternative called [`lax.scan`](https://jax.readthedocs.io/en/latest/jax.lax.html#jax.lax.scan).\n",
    "\n",
    "\n",
    "### Tasks\n",
    "- reimplement your multi-compartment HH model using jax\n",
    "- reimplement your forward euler integration loop using jax\n",
    "- accelerate it using jit and `lax.scan`.\n",
    "- compare the performance of the jax and numpy models\n",
    "\n",
    "_Note: To solve this task you will need to import additional dependencies, i.e. `import jax.numpy as jnp`, that were not loaded in the first cell._"
   ]
  },
  {
   "cell_type": "code",
   "execution_count": null,
   "metadata": {},
   "outputs": [],
   "source": [
    "# ..."
   ]
  },
  {
   "cell_type": "markdown",
   "metadata": {},
   "source": [
    "# Implement a cable in jaxley\n",
    "Now that you have implemented a mutli compartment HH model from scratch and possibly used jax to accelerate it, let's see how easy it is to implement a multi-compartment model using the [`jaxley`](https://jaxley.readthedocs.io/en/latest/) library. \n",
    "\n",
    "Jaxley is a differentiable simulator for biophysical neuron models in `JAX` which (among other things) supports:\n",
    "- automatic differentiation, allowing gradient-based optimization of thousands of parameters\n",
    "- acceleration on CPU, GPU, or TPU without any changes to the code\n",
    "- jit-compilation, making it as fast as other packages while being fully written in python\n",
    "- backward-Euler solvers for stable numerical solution of multicompartment neurons\n",
    "\n",
    "Using the tutorials on the [jaxley website](https://jaxley.readthedocs.io/en/latest/tutorials.html), implement a cable in jaxley and recreate the simulation from the previous section.\n",
    "\n",
    "### Tasks\n",
    "- implement a cable in jaxley\n",
    "- simulate the cable to a step current input in the first compartment\n",
    "- plot the results\n",
    "\n",
    "### Questions\n",
    "- How does the simulation time compare to the numpy implementation?"
   ]
  },
  {
   "cell_type": "code",
   "execution_count": null,
   "metadata": {},
   "outputs": [],
   "source": [
    "dt = 0.025\n",
    "stimulus = step_current(0.1, 10, 90)\n",
    "ts = np.arange(0, 100, dt)\n",
    "v0 = -65.0\n",
    "# each compartment should be 100 um long and have HH dynamics and only the first compartment should be stimulated\n",
    "# Note that the stimulus needs to be supplied as an array\n",
    "\n",
    "# Don't forget to initialize the model appropriately"
   ]
  },
  {
   "cell_type": "code",
   "execution_count": null,
   "metadata": {},
   "outputs": [],
   "source": [
    "# plot the results"
   ]
  }
 ],
 "metadata": {
  "kernelspec": {
   "display_name": ".venv",
   "language": "python",
   "name": "python3"
  },
  "language_info": {
   "codemirror_mode": {
    "name": "ipython",
    "version": 3
   },
   "file_extension": ".py",
   "mimetype": "text/x-python",
   "name": "python",
   "nbconvert_exporter": "python",
   "pygments_lexer": "ipython3",
   "version": "3.12.2"
  }
 },
 "nbformat": 4,
 "nbformat_minor": 2
}
